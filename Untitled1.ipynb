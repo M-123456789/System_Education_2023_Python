{
  "nbformat": 4,
  "nbformat_minor": 0,
  "metadata": {
    "colab": {
      "provenance": [],
      "toc_visible": true,
      "authorship_tag": "ABX9TyM8NOz+PFPZvV0DMF7ClF7N",
      "include_colab_link": true
    },
    "kernelspec": {
      "name": "python3",
      "display_name": "Python 3"
    },
    "language_info": {
      "name": "python"
    }
  },
  "cells": [
    {
      "cell_type": "markdown",
      "metadata": {
        "id": "view-in-github",
        "colab_type": "text"
      },
      "source": [
        "<a href=\"https://colab.research.google.com/github/M-123456789/System_Education_2023_Python/blob/main/Untitled1.ipynb\" target=\"_parent\"><img src=\"https://colab.research.google.com/assets/colab-badge.svg\" alt=\"Open In Colab\"/></a>"
      ]
    },
    {
      "cell_type": "code",
      "execution_count": null,
      "metadata": {
        "colab": {
          "base_uri": "https://localhost:8080/"
        },
        "id": "tz-NUuslAgzc",
        "outputId": "881c13ea-a5b1-46b1-9ab4-bb1487ffa4c2"
      },
      "outputs": [
        {
          "output_type": "stream",
          "name": "stdout",
          "text": [
            "Программа возведения числа от 1 до 9 в степень от 1 до 512\n",
            "Введите число: 2\n",
            "Введите степень: 128\n",
            "2  ^  128  =  [340282366920938463463374607431768211456]\n"
          ]
        }
      ],
      "source": [
        "print (\"Программа возведения числа от 1 до 9 в степень от 1 до 512\")\n",
        "\n",
        "n=0\n",
        "while n==0:\n",
        "  n=int(input(\"Введите число: \"))\n",
        "  if n<1 or n>10:\n",
        "    print(\"Введите число от 1 до 9.\")\n",
        "    n=0\n",
        "\n",
        "p=0\n",
        "while p==0:\n",
        "  p=int(input(\"Введите степень: \"))\n",
        "  if p<1 or p>512:\n",
        "    print(\"Введите степень от 1 до 512.\")\n",
        "    p=0\n",
        "\n",
        "m = []\n",
        "m.append(n)\n",
        "for i in range (1, p):\n",
        "  # print()\n",
        "  # print(\"Длина массива: \" + str(len(m)))\n",
        "  for ii in range (len(m)):\n",
        "    # print(\"Index = \", ii, \"Значение ячейки по индексу: \", m[ii])\n",
        "    k=m[ii]*n\n",
        "    iii=ii\n",
        "    while m[iii]>9 and iii>0:\n",
        "      m.append(k%10)\n",
        "      m[iii]+=+k//10\n",
        "      iii-=-1\n",
        "    m[ii]=k\n",
        "\n",
        "print (n, \" ^ \", p,\" = \", m)\n",
        "\n",
        "# 3 9 27 81 243 729\n",
        "# 3\n",
        "# 9\n",
        "# 27  2 7\n",
        "# 2*3+2=8 1\n",
        "#        24  3  -> 2 4 3\n",
        "# 12 9 -> 2*3+1  2 9\n",
        "\n"
      ]
    },
    {
      "cell_type": "code",
      "source": [
        "# 2023-12-13\n",
        "import pandas as pd\n",
        "\n",
        "url = 'https://docs.google.com/spreadsheets/d/1bRtJkFXv3DfOjl19jlkJee65u_BPR1e6VLdGTIM8Gcc/export?format=csv'\n",
        "df = pd.read_csv(url)\n",
        "\n",
        "a = []\n",
        "i1 = 0\n",
        "for i in df.values:\n",
        "  k1 = 0\n",
        "  for k in i:\n",
        "    if i1 == 1 and k1 > 5 and k1<=16:\n",
        "      a.append(int(k[0])-1)\n",
        "    k1+=1\n",
        "  i1=i1+1\n",
        "print (a)\n",
        "\n",
        "responses = df.iloc[1, 6:16].values\n",
        "b = []\n",
        "b = [int(response.split('.')[0]) - 1 for response in responses]\n",
        "print (b)\n",
        "\n",
        "print ([int(response.split('.')[0]) - 1 for response in df.iloc[1, 6:16].values])\n",
        "\n",
        "import plotly.express as px\n",
        "import pandas as pd\n",
        "\n",
        "# Создание DataFrame с данными\n",
        "data = {'Category': ['1.1 BPMN',\n",
        "'1.2 Выделение ролей',\n",
        "'1.3 Создание контекстной диаграммы',\n",
        "'1.4 Использование C4',\n",
        "'1.5 Визуализация архитектуры ',\n",
        "'1.6 Организация интервью',\n",
        "'1.7 Анализ полученной информации',\n",
        "'1.8 Разработка карт пользовательских историй',\n",
        "'1.9 Использование Opportunity Canvas ', '1.10 Анализ потенциальных выгод и рисков'],\n",
        "        'Value': a}\n",
        "\n",
        "df = pd.DataFrame(data)\n",
        "\n",
        "data2 = {'Category': ['1.1 BPMN',\n",
        "'1.2 Выделение ролей',\n",
        "'1.3 Создание контекстной диаграммы',\n",
        "'1.4 Использование C4',\n",
        "'1.5 Визуализация архитектуры ',\n",
        "'1.6 Организация интервью',\n",
        "'1.7 Анализ полученной информации',\n",
        "'1.8 Разработка карт пользовательских историй',\n",
        "'1.9 Использование Opportunity Canvas ', '1.10 Анализ потенциальных выгод и рисков'],\n",
        "        'Value': [2, 2, 2, 2, 2, 2, 2, 2, 2, 2]}\n",
        "\n",
        "# Построение радарного графика с Plotly Express\n",
        "fig = px.line_polar(df, r='Value', theta='Category', line_close=True)\n",
        "\n",
        "#fig = px.line_polar(df, r=[2, 2, 2, 2, 2, 2, 2, 2, 2, 2], theta='Category', line_close=True)\n",
        "\n",
        "fig.add_trace(px.line_polar(data2, r='Value', theta='Category', line_close=True, color_discrete_sequence=['red'], labels={'Value':'Line 2'}).data[0])\n",
        "\n",
        "# Настройка внешнего вида графика\n",
        "fig.update_layout(\n",
        "    polar=dict(\n",
        "        radialaxis=dict(\n",
        "            visible=True,\n",
        "            range=[0, 10]  # Задаем диапазон для радиальной оси\n",
        "        )\n",
        "    )\n",
        ")\n",
        "\n",
        "# Отображение графика\n",
        "fig.show()"
      ],
      "metadata": {
        "colab": {
          "base_uri": "https://localhost:8080/",
          "height": 594
        },
        "id": "uW75C61QxhbJ",
        "outputId": "d0077f01-44af-4d83-f7c0-46d8d9bbdd0d"
      },
      "execution_count": 70,
      "outputs": [
        {
          "output_type": "stream",
          "name": "stdout",
          "text": [
            "[4, 2, 3, 1, 2, 4, 2, 0, 3, 2]\n",
            "[4, 2, 3, 1, 2, 4, 2, 0, 3, 2]\n",
            "[4, 2, 3, 1, 2, 4, 2, 0, 3, 2]\n"
          ]
        },
        {
          "output_type": "display_data",
          "data": {
            "text/html": [
              "<html>\n",
              "<head><meta charset=\"utf-8\" /></head>\n",
              "<body>\n",
              "    <div>            <script src=\"https://cdnjs.cloudflare.com/ajax/libs/mathjax/2.7.5/MathJax.js?config=TeX-AMS-MML_SVG\"></script><script type=\"text/javascript\">if (window.MathJax && window.MathJax.Hub && window.MathJax.Hub.Config) {window.MathJax.Hub.Config({SVG: {font: \"STIX-Web\"}});}</script>                <script type=\"text/javascript\">window.PlotlyConfig = {MathJaxConfig: 'local'};</script>\n",
              "        <script charset=\"utf-8\" src=\"https://cdn.plot.ly/plotly-2.24.1.min.js\"></script>                <div id=\"31c6c715-4c65-497e-b2e3-5fe8681ae883\" class=\"plotly-graph-div\" style=\"height:525px; width:100%;\"></div>            <script type=\"text/javascript\">                                    window.PLOTLYENV=window.PLOTLYENV || {};                                    if (document.getElementById(\"31c6c715-4c65-497e-b2e3-5fe8681ae883\")) {                    Plotly.newPlot(                        \"31c6c715-4c65-497e-b2e3-5fe8681ae883\",                        [{\"hovertemplate\":\"Value=%{r}\\u003cbr\\u003eCategory=%{theta}\\u003cextra\\u003e\\u003c\\u002fextra\\u003e\",\"legendgroup\":\"\",\"line\":{\"color\":\"#636efa\",\"dash\":\"solid\"},\"marker\":{\"symbol\":\"circle\"},\"mode\":\"lines\",\"name\":\"\",\"r\":[4,2,3,1,2,4,2,0,3,2,4],\"showlegend\":false,\"subplot\":\"polar\",\"theta\":[\"1.1 BPMN\",\"1.2 \\u0412\\u044b\\u0434\\u0435\\u043b\\u0435\\u043d\\u0438\\u0435 \\u0440\\u043e\\u043b\\u0435\\u0439\",\"1.3 \\u0421\\u043e\\u0437\\u0434\\u0430\\u043d\\u0438\\u0435 \\u043a\\u043e\\u043d\\u0442\\u0435\\u043a\\u0441\\u0442\\u043d\\u043e\\u0439 \\u0434\\u0438\\u0430\\u0433\\u0440\\u0430\\u043c\\u043c\\u044b\",\"1.4 \\u0418\\u0441\\u043f\\u043e\\u043b\\u044c\\u0437\\u043e\\u0432\\u0430\\u043d\\u0438\\u0435 C4\",\"1.5 \\u0412\\u0438\\u0437\\u0443\\u0430\\u043b\\u0438\\u0437\\u0430\\u0446\\u0438\\u044f \\u0430\\u0440\\u0445\\u0438\\u0442\\u0435\\u043a\\u0442\\u0443\\u0440\\u044b \",\"1.6 \\u041e\\u0440\\u0433\\u0430\\u043d\\u0438\\u0437\\u0430\\u0446\\u0438\\u044f \\u0438\\u043d\\u0442\\u0435\\u0440\\u0432\\u044c\\u044e\",\"1.7 \\u0410\\u043d\\u0430\\u043b\\u0438\\u0437 \\u043f\\u043e\\u043b\\u0443\\u0447\\u0435\\u043d\\u043d\\u043e\\u0439 \\u0438\\u043d\\u0444\\u043e\\u0440\\u043c\\u0430\\u0446\\u0438\\u0438\",\"1.8 \\u0420\\u0430\\u0437\\u0440\\u0430\\u0431\\u043e\\u0442\\u043a\\u0430 \\u043a\\u0430\\u0440\\u0442 \\u043f\\u043e\\u043b\\u044c\\u0437\\u043e\\u0432\\u0430\\u0442\\u0435\\u043b\\u044c\\u0441\\u043a\\u0438\\u0445 \\u0438\\u0441\\u0442\\u043e\\u0440\\u0438\\u0439\",\"1.9 \\u0418\\u0441\\u043f\\u043e\\u043b\\u044c\\u0437\\u043e\\u0432\\u0430\\u043d\\u0438\\u0435 Opportunity Canvas \",\"1.10 \\u0410\\u043d\\u0430\\u043b\\u0438\\u0437 \\u043f\\u043e\\u0442\\u0435\\u043d\\u0446\\u0438\\u0430\\u043b\\u044c\\u043d\\u044b\\u0445 \\u0432\\u044b\\u0433\\u043e\\u0434 \\u0438 \\u0440\\u0438\\u0441\\u043a\\u043e\\u0432\",\"1.1 BPMN\"],\"type\":\"scatterpolar\"},{\"hovertemplate\":\"Line 2=%{r}\\u003cbr\\u003eCategory=%{theta}\\u003cextra\\u003e\\u003c\\u002fextra\\u003e\",\"legendgroup\":\"\",\"line\":{\"color\":\"red\",\"dash\":\"solid\"},\"marker\":{\"symbol\":\"circle\"},\"mode\":\"lines\",\"name\":\"\",\"r\":[2,2,2,2,2,2,2,2,2,2,2],\"showlegend\":false,\"subplot\":\"polar\",\"theta\":[\"1.1 BPMN\",\"1.2 \\u0412\\u044b\\u0434\\u0435\\u043b\\u0435\\u043d\\u0438\\u0435 \\u0440\\u043e\\u043b\\u0435\\u0439\",\"1.3 \\u0421\\u043e\\u0437\\u0434\\u0430\\u043d\\u0438\\u0435 \\u043a\\u043e\\u043d\\u0442\\u0435\\u043a\\u0441\\u0442\\u043d\\u043e\\u0439 \\u0434\\u0438\\u0430\\u0433\\u0440\\u0430\\u043c\\u043c\\u044b\",\"1.4 \\u0418\\u0441\\u043f\\u043e\\u043b\\u044c\\u0437\\u043e\\u0432\\u0430\\u043d\\u0438\\u0435 C4\",\"1.5 \\u0412\\u0438\\u0437\\u0443\\u0430\\u043b\\u0438\\u0437\\u0430\\u0446\\u0438\\u044f \\u0430\\u0440\\u0445\\u0438\\u0442\\u0435\\u043a\\u0442\\u0443\\u0440\\u044b \",\"1.6 \\u041e\\u0440\\u0433\\u0430\\u043d\\u0438\\u0437\\u0430\\u0446\\u0438\\u044f \\u0438\\u043d\\u0442\\u0435\\u0440\\u0432\\u044c\\u044e\",\"1.7 \\u0410\\u043d\\u0430\\u043b\\u0438\\u0437 \\u043f\\u043e\\u043b\\u0443\\u0447\\u0435\\u043d\\u043d\\u043e\\u0439 \\u0438\\u043d\\u0444\\u043e\\u0440\\u043c\\u0430\\u0446\\u0438\\u0438\",\"1.8 \\u0420\\u0430\\u0437\\u0440\\u0430\\u0431\\u043e\\u0442\\u043a\\u0430 \\u043a\\u0430\\u0440\\u0442 \\u043f\\u043e\\u043b\\u044c\\u0437\\u043e\\u0432\\u0430\\u0442\\u0435\\u043b\\u044c\\u0441\\u043a\\u0438\\u0445 \\u0438\\u0441\\u0442\\u043e\\u0440\\u0438\\u0439\",\"1.9 \\u0418\\u0441\\u043f\\u043e\\u043b\\u044c\\u0437\\u043e\\u0432\\u0430\\u043d\\u0438\\u0435 Opportunity Canvas \",\"1.10 \\u0410\\u043d\\u0430\\u043b\\u0438\\u0437 \\u043f\\u043e\\u0442\\u0435\\u043d\\u0446\\u0438\\u0430\\u043b\\u044c\\u043d\\u044b\\u0445 \\u0432\\u044b\\u0433\\u043e\\u0434 \\u0438 \\u0440\\u0438\\u0441\\u043a\\u043e\\u0432\",\"1.1 BPMN\"],\"type\":\"scatterpolar\"}],                        {\"template\":{\"data\":{\"histogram2dcontour\":[{\"type\":\"histogram2dcontour\",\"colorbar\":{\"outlinewidth\":0,\"ticks\":\"\"},\"colorscale\":[[0.0,\"#0d0887\"],[0.1111111111111111,\"#46039f\"],[0.2222222222222222,\"#7201a8\"],[0.3333333333333333,\"#9c179e\"],[0.4444444444444444,\"#bd3786\"],[0.5555555555555556,\"#d8576b\"],[0.6666666666666666,\"#ed7953\"],[0.7777777777777778,\"#fb9f3a\"],[0.8888888888888888,\"#fdca26\"],[1.0,\"#f0f921\"]]}],\"choropleth\":[{\"type\":\"choropleth\",\"colorbar\":{\"outlinewidth\":0,\"ticks\":\"\"}}],\"histogram2d\":[{\"type\":\"histogram2d\",\"colorbar\":{\"outlinewidth\":0,\"ticks\":\"\"},\"colorscale\":[[0.0,\"#0d0887\"],[0.1111111111111111,\"#46039f\"],[0.2222222222222222,\"#7201a8\"],[0.3333333333333333,\"#9c179e\"],[0.4444444444444444,\"#bd3786\"],[0.5555555555555556,\"#d8576b\"],[0.6666666666666666,\"#ed7953\"],[0.7777777777777778,\"#fb9f3a\"],[0.8888888888888888,\"#fdca26\"],[1.0,\"#f0f921\"]]}],\"heatmap\":[{\"type\":\"heatmap\",\"colorbar\":{\"outlinewidth\":0,\"ticks\":\"\"},\"colorscale\":[[0.0,\"#0d0887\"],[0.1111111111111111,\"#46039f\"],[0.2222222222222222,\"#7201a8\"],[0.3333333333333333,\"#9c179e\"],[0.4444444444444444,\"#bd3786\"],[0.5555555555555556,\"#d8576b\"],[0.6666666666666666,\"#ed7953\"],[0.7777777777777778,\"#fb9f3a\"],[0.8888888888888888,\"#fdca26\"],[1.0,\"#f0f921\"]]}],\"heatmapgl\":[{\"type\":\"heatmapgl\",\"colorbar\":{\"outlinewidth\":0,\"ticks\":\"\"},\"colorscale\":[[0.0,\"#0d0887\"],[0.1111111111111111,\"#46039f\"],[0.2222222222222222,\"#7201a8\"],[0.3333333333333333,\"#9c179e\"],[0.4444444444444444,\"#bd3786\"],[0.5555555555555556,\"#d8576b\"],[0.6666666666666666,\"#ed7953\"],[0.7777777777777778,\"#fb9f3a\"],[0.8888888888888888,\"#fdca26\"],[1.0,\"#f0f921\"]]}],\"contourcarpet\":[{\"type\":\"contourcarpet\",\"colorbar\":{\"outlinewidth\":0,\"ticks\":\"\"}}],\"contour\":[{\"type\":\"contour\",\"colorbar\":{\"outlinewidth\":0,\"ticks\":\"\"},\"colorscale\":[[0.0,\"#0d0887\"],[0.1111111111111111,\"#46039f\"],[0.2222222222222222,\"#7201a8\"],[0.3333333333333333,\"#9c179e\"],[0.4444444444444444,\"#bd3786\"],[0.5555555555555556,\"#d8576b\"],[0.6666666666666666,\"#ed7953\"],[0.7777777777777778,\"#fb9f3a\"],[0.8888888888888888,\"#fdca26\"],[1.0,\"#f0f921\"]]}],\"surface\":[{\"type\":\"surface\",\"colorbar\":{\"outlinewidth\":0,\"ticks\":\"\"},\"colorscale\":[[0.0,\"#0d0887\"],[0.1111111111111111,\"#46039f\"],[0.2222222222222222,\"#7201a8\"],[0.3333333333333333,\"#9c179e\"],[0.4444444444444444,\"#bd3786\"],[0.5555555555555556,\"#d8576b\"],[0.6666666666666666,\"#ed7953\"],[0.7777777777777778,\"#fb9f3a\"],[0.8888888888888888,\"#fdca26\"],[1.0,\"#f0f921\"]]}],\"mesh3d\":[{\"type\":\"mesh3d\",\"colorbar\":{\"outlinewidth\":0,\"ticks\":\"\"}}],\"scatter\":[{\"fillpattern\":{\"fillmode\":\"overlay\",\"size\":10,\"solidity\":0.2},\"type\":\"scatter\"}],\"parcoords\":[{\"type\":\"parcoords\",\"line\":{\"colorbar\":{\"outlinewidth\":0,\"ticks\":\"\"}}}],\"scatterpolargl\":[{\"type\":\"scatterpolargl\",\"marker\":{\"colorbar\":{\"outlinewidth\":0,\"ticks\":\"\"}}}],\"bar\":[{\"error_x\":{\"color\":\"#2a3f5f\"},\"error_y\":{\"color\":\"#2a3f5f\"},\"marker\":{\"line\":{\"color\":\"#E5ECF6\",\"width\":0.5},\"pattern\":{\"fillmode\":\"overlay\",\"size\":10,\"solidity\":0.2}},\"type\":\"bar\"}],\"scattergeo\":[{\"type\":\"scattergeo\",\"marker\":{\"colorbar\":{\"outlinewidth\":0,\"ticks\":\"\"}}}],\"scatterpolar\":[{\"type\":\"scatterpolar\",\"marker\":{\"colorbar\":{\"outlinewidth\":0,\"ticks\":\"\"}}}],\"histogram\":[{\"marker\":{\"pattern\":{\"fillmode\":\"overlay\",\"size\":10,\"solidity\":0.2}},\"type\":\"histogram\"}],\"scattergl\":[{\"type\":\"scattergl\",\"marker\":{\"colorbar\":{\"outlinewidth\":0,\"ticks\":\"\"}}}],\"scatter3d\":[{\"type\":\"scatter3d\",\"line\":{\"colorbar\":{\"outlinewidth\":0,\"ticks\":\"\"}},\"marker\":{\"colorbar\":{\"outlinewidth\":0,\"ticks\":\"\"}}}],\"scattermapbox\":[{\"type\":\"scattermapbox\",\"marker\":{\"colorbar\":{\"outlinewidth\":0,\"ticks\":\"\"}}}],\"scatterternary\":[{\"type\":\"scatterternary\",\"marker\":{\"colorbar\":{\"outlinewidth\":0,\"ticks\":\"\"}}}],\"scattercarpet\":[{\"type\":\"scattercarpet\",\"marker\":{\"colorbar\":{\"outlinewidth\":0,\"ticks\":\"\"}}}],\"carpet\":[{\"aaxis\":{\"endlinecolor\":\"#2a3f5f\",\"gridcolor\":\"white\",\"linecolor\":\"white\",\"minorgridcolor\":\"white\",\"startlinecolor\":\"#2a3f5f\"},\"baxis\":{\"endlinecolor\":\"#2a3f5f\",\"gridcolor\":\"white\",\"linecolor\":\"white\",\"minorgridcolor\":\"white\",\"startlinecolor\":\"#2a3f5f\"},\"type\":\"carpet\"}],\"table\":[{\"cells\":{\"fill\":{\"color\":\"#EBF0F8\"},\"line\":{\"color\":\"white\"}},\"header\":{\"fill\":{\"color\":\"#C8D4E3\"},\"line\":{\"color\":\"white\"}},\"type\":\"table\"}],\"barpolar\":[{\"marker\":{\"line\":{\"color\":\"#E5ECF6\",\"width\":0.5},\"pattern\":{\"fillmode\":\"overlay\",\"size\":10,\"solidity\":0.2}},\"type\":\"barpolar\"}],\"pie\":[{\"automargin\":true,\"type\":\"pie\"}]},\"layout\":{\"autotypenumbers\":\"strict\",\"colorway\":[\"#636efa\",\"#EF553B\",\"#00cc96\",\"#ab63fa\",\"#FFA15A\",\"#19d3f3\",\"#FF6692\",\"#B6E880\",\"#FF97FF\",\"#FECB52\"],\"font\":{\"color\":\"#2a3f5f\"},\"hovermode\":\"closest\",\"hoverlabel\":{\"align\":\"left\"},\"paper_bgcolor\":\"white\",\"plot_bgcolor\":\"#E5ECF6\",\"polar\":{\"bgcolor\":\"#E5ECF6\",\"angularaxis\":{\"gridcolor\":\"white\",\"linecolor\":\"white\",\"ticks\":\"\"},\"radialaxis\":{\"gridcolor\":\"white\",\"linecolor\":\"white\",\"ticks\":\"\"}},\"ternary\":{\"bgcolor\":\"#E5ECF6\",\"aaxis\":{\"gridcolor\":\"white\",\"linecolor\":\"white\",\"ticks\":\"\"},\"baxis\":{\"gridcolor\":\"white\",\"linecolor\":\"white\",\"ticks\":\"\"},\"caxis\":{\"gridcolor\":\"white\",\"linecolor\":\"white\",\"ticks\":\"\"}},\"coloraxis\":{\"colorbar\":{\"outlinewidth\":0,\"ticks\":\"\"}},\"colorscale\":{\"sequential\":[[0.0,\"#0d0887\"],[0.1111111111111111,\"#46039f\"],[0.2222222222222222,\"#7201a8\"],[0.3333333333333333,\"#9c179e\"],[0.4444444444444444,\"#bd3786\"],[0.5555555555555556,\"#d8576b\"],[0.6666666666666666,\"#ed7953\"],[0.7777777777777778,\"#fb9f3a\"],[0.8888888888888888,\"#fdca26\"],[1.0,\"#f0f921\"]],\"sequentialminus\":[[0.0,\"#0d0887\"],[0.1111111111111111,\"#46039f\"],[0.2222222222222222,\"#7201a8\"],[0.3333333333333333,\"#9c179e\"],[0.4444444444444444,\"#bd3786\"],[0.5555555555555556,\"#d8576b\"],[0.6666666666666666,\"#ed7953\"],[0.7777777777777778,\"#fb9f3a\"],[0.8888888888888888,\"#fdca26\"],[1.0,\"#f0f921\"]],\"diverging\":[[0,\"#8e0152\"],[0.1,\"#c51b7d\"],[0.2,\"#de77ae\"],[0.3,\"#f1b6da\"],[0.4,\"#fde0ef\"],[0.5,\"#f7f7f7\"],[0.6,\"#e6f5d0\"],[0.7,\"#b8e186\"],[0.8,\"#7fbc41\"],[0.9,\"#4d9221\"],[1,\"#276419\"]]},\"xaxis\":{\"gridcolor\":\"white\",\"linecolor\":\"white\",\"ticks\":\"\",\"title\":{\"standoff\":15},\"zerolinecolor\":\"white\",\"automargin\":true,\"zerolinewidth\":2},\"yaxis\":{\"gridcolor\":\"white\",\"linecolor\":\"white\",\"ticks\":\"\",\"title\":{\"standoff\":15},\"zerolinecolor\":\"white\",\"automargin\":true,\"zerolinewidth\":2},\"scene\":{\"xaxis\":{\"backgroundcolor\":\"#E5ECF6\",\"gridcolor\":\"white\",\"linecolor\":\"white\",\"showbackground\":true,\"ticks\":\"\",\"zerolinecolor\":\"white\",\"gridwidth\":2},\"yaxis\":{\"backgroundcolor\":\"#E5ECF6\",\"gridcolor\":\"white\",\"linecolor\":\"white\",\"showbackground\":true,\"ticks\":\"\",\"zerolinecolor\":\"white\",\"gridwidth\":2},\"zaxis\":{\"backgroundcolor\":\"#E5ECF6\",\"gridcolor\":\"white\",\"linecolor\":\"white\",\"showbackground\":true,\"ticks\":\"\",\"zerolinecolor\":\"white\",\"gridwidth\":2}},\"shapedefaults\":{\"line\":{\"color\":\"#2a3f5f\"}},\"annotationdefaults\":{\"arrowcolor\":\"#2a3f5f\",\"arrowhead\":0,\"arrowwidth\":1},\"geo\":{\"bgcolor\":\"white\",\"landcolor\":\"#E5ECF6\",\"subunitcolor\":\"white\",\"showland\":true,\"showlakes\":true,\"lakecolor\":\"white\"},\"title\":{\"x\":0.05},\"mapbox\":{\"style\":\"light\"}}},\"polar\":{\"domain\":{\"x\":[0.0,1.0],\"y\":[0.0,1.0]},\"angularaxis\":{\"direction\":\"clockwise\",\"rotation\":90},\"radialaxis\":{\"visible\":true,\"range\":[0,10]}},\"legend\":{\"tracegroupgap\":0},\"margin\":{\"t\":60}},                        {\"responsive\": true}                    ).then(function(){\n",
              "                            \n",
              "var gd = document.getElementById('31c6c715-4c65-497e-b2e3-5fe8681ae883');\n",
              "var x = new MutationObserver(function (mutations, observer) {{\n",
              "        var display = window.getComputedStyle(gd).display;\n",
              "        if (!display || display === 'none') {{\n",
              "            console.log([gd, 'removed!']);\n",
              "            Plotly.purge(gd);\n",
              "            observer.disconnect();\n",
              "        }}\n",
              "}});\n",
              "\n",
              "// Listen for the removal of the full notebook cells\n",
              "var notebookContainer = gd.closest('#notebook-container');\n",
              "if (notebookContainer) {{\n",
              "    x.observe(notebookContainer, {childList: true});\n",
              "}}\n",
              "\n",
              "// Listen for the clearing of the current output cell\n",
              "var outputEl = gd.closest('.output');\n",
              "if (outputEl) {{\n",
              "    x.observe(outputEl, {childList: true});\n",
              "}}\n",
              "\n",
              "                        })                };                            </script>        </div>\n",
              "</body>\n",
              "</html>"
            ]
          },
          "metadata": {}
        }
      ]
    },
    {
      "cell_type": "code",
      "source": [
        "i=float(input(\"Сколько модулей вы прошли? \"))\n",
        "if i==17:\n",
        "  print(\"Умница! Ты выжил!\")\n",
        "elif i>17/2:\n",
        "  print(\"Поздравляю! Вы прошли больше половины курса!\")\n",
        "else:\n",
        " print(\"Продолжайте! Уже виден свет в конце тоннеля! :)\")"
      ],
      "metadata": {
        "colab": {
          "base_uri": "https://localhost:8080/"
        },
        "id": "u_n9oLXHLrEI",
        "outputId": "e163238b-e009-421f-d509-7efea51f8400"
      },
      "execution_count": null,
      "outputs": [
        {
          "output_type": "stream",
          "name": "stdout",
          "text": [
            "Сколько модулей вы прошли? -1\n",
            "Продолжайте! Уже виден свет в конце тоннеля! :)\n"
          ]
        }
      ]
    },
    {
      "cell_type": "code",
      "source": [
        "year=int(input(\"Введите год рождения\"))\n",
        "print (\"Возраст: \"+str(2023-year))"
      ],
      "metadata": {
        "colab": {
          "base_uri": "https://localhost:8080/"
        },
        "id": "gCKx_MhpI4hH",
        "outputId": "b1afd71f-34bf-4b8f-84fc-47ae709906b5"
      },
      "execution_count": null,
      "outputs": [
        {
          "output_type": "stream",
          "name": "stdout",
          "text": [
            "Введите год рождения1980\n",
            "Возраст: 43\n"
          ]
        }
      ]
    },
    {
      "cell_type": "code",
      "source": [
        "k1 = float(input(\"Введите первое число: \"))\n",
        "k2 = float(input(\"Введите второе число: \"))\n",
        "\n",
        "k3=str(k1*k2)\n",
        "print(\"Произведение двух чисел равно: \" + k3 )\n",
        "\n",
        "k3=str(k1+k2)\n",
        "print(\"Сумма двух чисел равна: \" + k3 )\n",
        "\n",
        "k3=str(k1-k2)\n",
        "print(\"Разность двух чисел равна: \" + k3 )"
      ],
      "metadata": {
        "colab": {
          "base_uri": "https://localhost:8080/"
        },
        "id": "YAA_w6c4EjIL",
        "outputId": "2c977580-9ffa-477d-fc20-f083f0ee88aa"
      },
      "execution_count": null,
      "outputs": [
        {
          "output_type": "stream",
          "name": "stdout",
          "text": [
            "Введите первое число: 5\n",
            "Введите второе число: 3\n",
            "Произведение двух чисел равно: 15.0\n",
            "Сумма двух чисел равна: 8.0\n",
            "Разность двух чисел равна: 2.0\n"
          ]
        }
      ]
    }
  ]
}